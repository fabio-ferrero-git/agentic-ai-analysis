{
 "cells": [
  {
   "metadata": {},
   "cell_type": "markdown",
   "source": "#### Import",
   "id": "348ae46b54ff9f67"
  },
  {
   "metadata": {
    "ExecuteTime": {
     "end_time": "2025-04-15T11:55:30.853266Z",
     "start_time": "2025-04-15T11:55:30.672237Z"
    }
   },
   "cell_type": "code",
   "source": [
    "import pandas as pd\n",
    "from analysis_functions.logs import Logs\n",
    "from analysis_functions import utils as u"
   ],
   "id": "777656dbb7d53f1d",
   "outputs": [],
   "execution_count": 2
  },
  {
   "metadata": {},
   "cell_type": "markdown",
   "source": [
    "---\n",
    "# User Study - Participants"
   ],
   "id": "e0b6a7bc6ccd8249"
  },
  {
   "metadata": {},
   "cell_type": "markdown",
   "source": [
    "#### Load data\n",
    "- User model\n",
    "- User study Logs"
   ],
   "id": "2dc76975d063da81"
  },
  {
   "metadata": {
    "ExecuteTime": {
     "end_time": "2025-04-15T11:55:30.916655Z",
     "start_time": "2025-04-15T11:55:30.909045Z"
    }
   },
   "cell_type": "code",
   "source": [
    "user_model = pd.read_csv('data/csv_df_user_model.csv')\n",
    "print(f'- Total number of users: {len(user_model)}')"
   ],
   "id": "ba90d1c8e7d2e449",
   "outputs": [
    {
     "name": "stdout",
     "output_type": "stream",
     "text": [
      "- Total number of users: 230\n"
     ]
    }
   ],
   "execution_count": 3
  },
  {
   "metadata": {},
   "cell_type": "markdown",
   "source": "### Aggregate counts for each job and system",
   "id": "db620e7a844f04fc"
  },
  {
   "metadata": {
    "ExecuteTime": {
     "end_time": "2025-04-15T11:55:30.991472Z",
     "start_time": "2025-04-15T11:55:30.977740Z"
    }
   },
   "cell_type": "code",
   "source": [
    "df_study = user_model.groupby(['job', 'assigned_condition']).size().unstack(fill_value=0).reset_index()\n",
    "df_study.columns.name = None\n",
    "df_study['Total'] = df_study[[0,1,2]].sum(axis=1)\n",
    "df_study"
   ],
   "id": "62e91953f5d29165",
   "outputs": [
    {
     "data": {
      "text/plain": [
       "                   job   0   1   2  Total\n",
       "0  customer_experience  10   7   6     23\n",
       "1        data_analysis   9   8   6     23\n",
       "2      design_creative   5  10   8     23\n",
       "3   finance_accounting   7   8   8     23\n",
       "4      human_resources   9   7   7     23\n",
       "5                   it   8   7   8     23\n",
       "6                legal   9   7   7     23\n",
       "7   product_management   6  10   7     23\n",
       "8             research   6   8   9     23\n",
       "9                sales   8   5  10     23"
      ],
      "text/html": [
       "<div>\n",
       "<style scoped>\n",
       "    .dataframe tbody tr th:only-of-type {\n",
       "        vertical-align: middle;\n",
       "    }\n",
       "\n",
       "    .dataframe tbody tr th {\n",
       "        vertical-align: top;\n",
       "    }\n",
       "\n",
       "    .dataframe thead th {\n",
       "        text-align: right;\n",
       "    }\n",
       "</style>\n",
       "<table border=\"1\" class=\"dataframe\">\n",
       "  <thead>\n",
       "    <tr style=\"text-align: right;\">\n",
       "      <th></th>\n",
       "      <th>job</th>\n",
       "      <th>0</th>\n",
       "      <th>1</th>\n",
       "      <th>2</th>\n",
       "      <th>Total</th>\n",
       "    </tr>\n",
       "  </thead>\n",
       "  <tbody>\n",
       "    <tr>\n",
       "      <th>0</th>\n",
       "      <td>customer_experience</td>\n",
       "      <td>10</td>\n",
       "      <td>7</td>\n",
       "      <td>6</td>\n",
       "      <td>23</td>\n",
       "    </tr>\n",
       "    <tr>\n",
       "      <th>1</th>\n",
       "      <td>data_analysis</td>\n",
       "      <td>9</td>\n",
       "      <td>8</td>\n",
       "      <td>6</td>\n",
       "      <td>23</td>\n",
       "    </tr>\n",
       "    <tr>\n",
       "      <th>2</th>\n",
       "      <td>design_creative</td>\n",
       "      <td>5</td>\n",
       "      <td>10</td>\n",
       "      <td>8</td>\n",
       "      <td>23</td>\n",
       "    </tr>\n",
       "    <tr>\n",
       "      <th>3</th>\n",
       "      <td>finance_accounting</td>\n",
       "      <td>7</td>\n",
       "      <td>8</td>\n",
       "      <td>8</td>\n",
       "      <td>23</td>\n",
       "    </tr>\n",
       "    <tr>\n",
       "      <th>4</th>\n",
       "      <td>human_resources</td>\n",
       "      <td>9</td>\n",
       "      <td>7</td>\n",
       "      <td>7</td>\n",
       "      <td>23</td>\n",
       "    </tr>\n",
       "    <tr>\n",
       "      <th>5</th>\n",
       "      <td>it</td>\n",
       "      <td>8</td>\n",
       "      <td>7</td>\n",
       "      <td>8</td>\n",
       "      <td>23</td>\n",
       "    </tr>\n",
       "    <tr>\n",
       "      <th>6</th>\n",
       "      <td>legal</td>\n",
       "      <td>9</td>\n",
       "      <td>7</td>\n",
       "      <td>7</td>\n",
       "      <td>23</td>\n",
       "    </tr>\n",
       "    <tr>\n",
       "      <th>7</th>\n",
       "      <td>product_management</td>\n",
       "      <td>6</td>\n",
       "      <td>10</td>\n",
       "      <td>7</td>\n",
       "      <td>23</td>\n",
       "    </tr>\n",
       "    <tr>\n",
       "      <th>8</th>\n",
       "      <td>research</td>\n",
       "      <td>6</td>\n",
       "      <td>8</td>\n",
       "      <td>9</td>\n",
       "      <td>23</td>\n",
       "    </tr>\n",
       "    <tr>\n",
       "      <th>9</th>\n",
       "      <td>sales</td>\n",
       "      <td>8</td>\n",
       "      <td>5</td>\n",
       "      <td>10</td>\n",
       "      <td>23</td>\n",
       "    </tr>\n",
       "  </tbody>\n",
       "</table>\n",
       "</div>"
      ]
     },
     "execution_count": 4,
     "metadata": {},
     "output_type": "execute_result"
    }
   ],
   "execution_count": 4
  },
  {
   "metadata": {},
   "cell_type": "markdown",
   "source": "## Total number of users per system ",
   "id": "3387c83a546ea06d"
  },
  {
   "metadata": {
    "ExecuteTime": {
     "end_time": "2025-04-15T11:55:31.014464Z",
     "start_time": "2025-04-15T11:55:31.006363Z"
    }
   },
   "cell_type": "code",
   "source": [
    "total_study = df_study[[0, 1, 2, 'Total']].sum()\n",
    "total_study = total_study.rename({i: f'System {i}' for i in list(total_study.axes[0])})\n",
    "study_sample = {i : int(total_study[k]) for i, k in enumerate(total_study.index)}\n",
    "total_study"
   ],
   "id": "e451639f58332273",
   "outputs": [
    {
     "data": {
      "text/plain": [
       "System 0         77\n",
       "System 1         77\n",
       "System 2         76\n",
       "System Total    230\n",
       "dtype: int64"
      ]
     },
     "execution_count": 5,
     "metadata": {},
     "output_type": "execute_result"
    }
   ],
   "execution_count": 5
  },
  {
   "metadata": {},
   "cell_type": "markdown",
   "source": [
    "---\n",
    "# Demographic Analysis"
   ],
   "id": "74c96fd3ae90df62"
  },
  {
   "metadata": {},
   "cell_type": "markdown",
   "source": "### Age Analysis",
   "id": "b12dcd6b2db169a3"
  },
  {
   "metadata": {
    "ExecuteTime": {
     "end_time": "2025-04-15T11:55:31.034778Z",
     "start_time": "2025-04-15T11:55:31.025994Z"
    }
   },
   "cell_type": "code",
   "source": [
    "age_csv_path = 'data/demographic/age.csv' \n",
    "u.get_demographic_df(age_csv_path)"
   ],
   "id": "2e49cdeb37ed1e2",
   "outputs": [
    {
     "data": {
      "text/plain": [
       "     Unnamed: 0 Age\n",
       "0             0  30\n",
       "1             1  32\n",
       "2             2  31\n",
       "3             3  40\n",
       "4             4  37\n",
       "..          ...  ..\n",
       "225          36  25\n",
       "226          39  27\n",
       "227          40  41\n",
       "228          41  30\n",
       "229          42  48\n",
       "\n",
       "[230 rows x 2 columns]"
      ],
      "text/html": [
       "<div>\n",
       "<style scoped>\n",
       "    .dataframe tbody tr th:only-of-type {\n",
       "        vertical-align: middle;\n",
       "    }\n",
       "\n",
       "    .dataframe tbody tr th {\n",
       "        vertical-align: top;\n",
       "    }\n",
       "\n",
       "    .dataframe thead th {\n",
       "        text-align: right;\n",
       "    }\n",
       "</style>\n",
       "<table border=\"1\" class=\"dataframe\">\n",
       "  <thead>\n",
       "    <tr style=\"text-align: right;\">\n",
       "      <th></th>\n",
       "      <th>Unnamed: 0</th>\n",
       "      <th>Age</th>\n",
       "    </tr>\n",
       "  </thead>\n",
       "  <tbody>\n",
       "    <tr>\n",
       "      <th>0</th>\n",
       "      <td>0</td>\n",
       "      <td>30</td>\n",
       "    </tr>\n",
       "    <tr>\n",
       "      <th>1</th>\n",
       "      <td>1</td>\n",
       "      <td>32</td>\n",
       "    </tr>\n",
       "    <tr>\n",
       "      <th>2</th>\n",
       "      <td>2</td>\n",
       "      <td>31</td>\n",
       "    </tr>\n",
       "    <tr>\n",
       "      <th>3</th>\n",
       "      <td>3</td>\n",
       "      <td>40</td>\n",
       "    </tr>\n",
       "    <tr>\n",
       "      <th>4</th>\n",
       "      <td>4</td>\n",
       "      <td>37</td>\n",
       "    </tr>\n",
       "    <tr>\n",
       "      <th>...</th>\n",
       "      <td>...</td>\n",
       "      <td>...</td>\n",
       "    </tr>\n",
       "    <tr>\n",
       "      <th>225</th>\n",
       "      <td>36</td>\n",
       "      <td>25</td>\n",
       "    </tr>\n",
       "    <tr>\n",
       "      <th>226</th>\n",
       "      <td>39</td>\n",
       "      <td>27</td>\n",
       "    </tr>\n",
       "    <tr>\n",
       "      <th>227</th>\n",
       "      <td>40</td>\n",
       "      <td>41</td>\n",
       "    </tr>\n",
       "    <tr>\n",
       "      <th>228</th>\n",
       "      <td>41</td>\n",
       "      <td>30</td>\n",
       "    </tr>\n",
       "    <tr>\n",
       "      <th>229</th>\n",
       "      <td>42</td>\n",
       "      <td>48</td>\n",
       "    </tr>\n",
       "  </tbody>\n",
       "</table>\n",
       "<p>230 rows × 2 columns</p>\n",
       "</div>"
      ]
     },
     "execution_count": 6,
     "metadata": {},
     "output_type": "execute_result"
    }
   ],
   "execution_count": 6
  },
  {
   "metadata": {
    "ExecuteTime": {
     "end_time": "2025-04-15T11:55:31.069104Z",
     "start_time": "2025-04-15T11:55:31.060882Z"
    }
   },
   "cell_type": "code",
   "source": "u.age_analysis(age_csv_path)",
   "id": "d1892cdda064ce7",
   "outputs": [
    {
     "name": "stdout",
     "output_type": "stream",
     "text": [
      "Age demographics indicated that:\n",
      "\n",
      "        - 22% of participants were between 18-25 years\n",
      "        - 45% between 26-35 years\n",
      "        - 20% between 36-45 years\n",
      "        - 14% over 45 years of age.\n",
      "    \n"
     ]
    }
   ],
   "execution_count": 7
  },
  {
   "metadata": {},
   "cell_type": "markdown",
   "source": "### Ethnicity Analysis",
   "id": "7c1609c2ec3cb1e6"
  },
  {
   "metadata": {
    "ExecuteTime": {
     "end_time": "2025-04-15T11:55:31.100910Z",
     "start_time": "2025-04-15T11:55:31.092832Z"
    }
   },
   "cell_type": "code",
   "source": [
    "ethnicity_csv_path = 'data/demographic/ethnicity.csv'\n",
    "u.get_demographic_df(ethnicity_csv_path)"
   ],
   "id": "9b35e5a77f880d81",
   "outputs": [
    {
     "data": {
      "text/plain": [
       "  Ethnicity simplified  count\n",
       "0                White    103\n",
       "1                Black     89\n",
       "2                Asian     18\n",
       "3                Mixed     12\n",
       "4                Other      7\n",
       "5      CONSENT_REVOKED      1"
      ],
      "text/html": [
       "<div>\n",
       "<style scoped>\n",
       "    .dataframe tbody tr th:only-of-type {\n",
       "        vertical-align: middle;\n",
       "    }\n",
       "\n",
       "    .dataframe tbody tr th {\n",
       "        vertical-align: top;\n",
       "    }\n",
       "\n",
       "    .dataframe thead th {\n",
       "        text-align: right;\n",
       "    }\n",
       "</style>\n",
       "<table border=\"1\" class=\"dataframe\">\n",
       "  <thead>\n",
       "    <tr style=\"text-align: right;\">\n",
       "      <th></th>\n",
       "      <th>Ethnicity simplified</th>\n",
       "      <th>count</th>\n",
       "    </tr>\n",
       "  </thead>\n",
       "  <tbody>\n",
       "    <tr>\n",
       "      <th>0</th>\n",
       "      <td>White</td>\n",
       "      <td>103</td>\n",
       "    </tr>\n",
       "    <tr>\n",
       "      <th>1</th>\n",
       "      <td>Black</td>\n",
       "      <td>89</td>\n",
       "    </tr>\n",
       "    <tr>\n",
       "      <th>2</th>\n",
       "      <td>Asian</td>\n",
       "      <td>18</td>\n",
       "    </tr>\n",
       "    <tr>\n",
       "      <th>3</th>\n",
       "      <td>Mixed</td>\n",
       "      <td>12</td>\n",
       "    </tr>\n",
       "    <tr>\n",
       "      <th>4</th>\n",
       "      <td>Other</td>\n",
       "      <td>7</td>\n",
       "    </tr>\n",
       "    <tr>\n",
       "      <th>5</th>\n",
       "      <td>CONSENT_REVOKED</td>\n",
       "      <td>1</td>\n",
       "    </tr>\n",
       "  </tbody>\n",
       "</table>\n",
       "</div>"
      ]
     },
     "execution_count": 8,
     "metadata": {},
     "output_type": "execute_result"
    }
   ],
   "execution_count": 8
  },
  {
   "metadata": {
    "ExecuteTime": {
     "end_time": "2025-04-15T11:55:31.134987Z",
     "start_time": "2025-04-15T11:55:31.126449Z"
    }
   },
   "cell_type": "code",
   "source": "u.ethnicity_analysis(ethnicity_csv_path)",
   "id": "3945e541205aa78",
   "outputs": [
    {
     "name": "stdout",
     "output_type": "stream",
     "text": [
      "The study included participants from various ethnic backgrounds, with:\n",
      "\n",
      "    - 45% as White/Caucasian\n",
      "\t- 8% as Asian\n",
      "\t- 39% as Black/African\n",
      "\t- 5% as multiracial or other\n"
     ]
    }
   ],
   "execution_count": 9
  },
  {
   "metadata": {},
   "cell_type": "markdown",
   "source": "### Gender Analysis",
   "id": "41a866029c39769b"
  },
  {
   "metadata": {
    "ExecuteTime": {
     "end_time": "2025-04-15T11:55:31.155556Z",
     "start_time": "2025-04-15T11:55:31.147965Z"
    }
   },
   "cell_type": "code",
   "source": [
    "gender_csv_path = 'data/demographic/gender.csv'\n",
    "u.get_demographic_df(gender_csv_path)"
   ],
   "id": "b3cc700832d6fc75",
   "outputs": [
    {
     "data": {
      "text/plain": [
       "               Sex  count\n",
       "0             Male    117\n",
       "1           Female    112\n",
       "2  CONSENT_REVOKED      1"
      ],
      "text/html": [
       "<div>\n",
       "<style scoped>\n",
       "    .dataframe tbody tr th:only-of-type {\n",
       "        vertical-align: middle;\n",
       "    }\n",
       "\n",
       "    .dataframe tbody tr th {\n",
       "        vertical-align: top;\n",
       "    }\n",
       "\n",
       "    .dataframe thead th {\n",
       "        text-align: right;\n",
       "    }\n",
       "</style>\n",
       "<table border=\"1\" class=\"dataframe\">\n",
       "  <thead>\n",
       "    <tr style=\"text-align: right;\">\n",
       "      <th></th>\n",
       "      <th>Sex</th>\n",
       "      <th>count</th>\n",
       "    </tr>\n",
       "  </thead>\n",
       "  <tbody>\n",
       "    <tr>\n",
       "      <th>0</th>\n",
       "      <td>Male</td>\n",
       "      <td>117</td>\n",
       "    </tr>\n",
       "    <tr>\n",
       "      <th>1</th>\n",
       "      <td>Female</td>\n",
       "      <td>112</td>\n",
       "    </tr>\n",
       "    <tr>\n",
       "      <th>2</th>\n",
       "      <td>CONSENT_REVOKED</td>\n",
       "      <td>1</td>\n",
       "    </tr>\n",
       "  </tbody>\n",
       "</table>\n",
       "</div>"
      ]
     },
     "execution_count": 10,
     "metadata": {},
     "output_type": "execute_result"
    }
   ],
   "execution_count": 10
  },
  {
   "metadata": {},
   "cell_type": "markdown",
   "source": "### Language Analysis\n",
   "id": "4bf0ee002ee33058"
  },
  {
   "metadata": {
    "ExecuteTime": {
     "end_time": "2025-04-15T11:55:31.182050Z",
     "start_time": "2025-04-15T11:55:31.172857Z"
    }
   },
   "cell_type": "code",
   "source": [
    "language_csv_path = 'data/demographic/language.csv'\n",
    "u.get_demographic_df(language_csv_path)"
   ],
   "id": "97bd69ddca06ba63",
   "outputs": [
    {
     "data": {
      "text/plain": [
       "    Unnamed: 0          Language  count  percentage\n",
       "0            0           English    150   65.217391\n",
       "1            1           Spanish     15    6.521739\n",
       "2            2            Polish      9    3.913043\n",
       "3            3        Portuguese      9    3.913043\n",
       "4            4         Hungarian      6    2.608696\n",
       "5            5           Italian      5    2.173913\n",
       "6            6             Greek      4    1.739130\n",
       "7            7            German      3    1.304348\n",
       "8            8           Swahili      3    1.304348\n",
       "9            9             Other      2    0.869565\n",
       "10          10         Afrikaans      2    0.869565\n",
       "11          11           Russian      2    0.869565\n",
       "12          12          Romanian      2    0.869565\n",
       "13          13           Turkish      2    0.869565\n",
       "14          14         Slovenian      2    0.869565\n",
       "15          15             Czech      1    0.434783\n",
       "16          16        Vietnamese      1    0.434783\n",
       "17          17            Korean      1    0.434783\n",
       "18          18          Croatian      1    0.434783\n",
       "19          19          Estonian      1    0.434783\n",
       "20          20            French      1    0.434783\n",
       "21          21  Tagalog-Filipino      1    0.434783\n",
       "22          22            Slovak      1    0.434783\n",
       "23          23           Chinese      1    0.434783\n",
       "24          24          Mandarin      1    0.434783\n",
       "25          25   CONSENT_REVOKED      1    0.434783\n",
       "26          26              Urdu      1    0.434783\n",
       "27          27           Bengali      1    0.434783\n",
       "28          28           Serbian      1    0.434783"
      ],
      "text/html": [
       "<div>\n",
       "<style scoped>\n",
       "    .dataframe tbody tr th:only-of-type {\n",
       "        vertical-align: middle;\n",
       "    }\n",
       "\n",
       "    .dataframe tbody tr th {\n",
       "        vertical-align: top;\n",
       "    }\n",
       "\n",
       "    .dataframe thead th {\n",
       "        text-align: right;\n",
       "    }\n",
       "</style>\n",
       "<table border=\"1\" class=\"dataframe\">\n",
       "  <thead>\n",
       "    <tr style=\"text-align: right;\">\n",
       "      <th></th>\n",
       "      <th>Unnamed: 0</th>\n",
       "      <th>Language</th>\n",
       "      <th>count</th>\n",
       "      <th>percentage</th>\n",
       "    </tr>\n",
       "  </thead>\n",
       "  <tbody>\n",
       "    <tr>\n",
       "      <th>0</th>\n",
       "      <td>0</td>\n",
       "      <td>English</td>\n",
       "      <td>150</td>\n",
       "      <td>65.217391</td>\n",
       "    </tr>\n",
       "    <tr>\n",
       "      <th>1</th>\n",
       "      <td>1</td>\n",
       "      <td>Spanish</td>\n",
       "      <td>15</td>\n",
       "      <td>6.521739</td>\n",
       "    </tr>\n",
       "    <tr>\n",
       "      <th>2</th>\n",
       "      <td>2</td>\n",
       "      <td>Polish</td>\n",
       "      <td>9</td>\n",
       "      <td>3.913043</td>\n",
       "    </tr>\n",
       "    <tr>\n",
       "      <th>3</th>\n",
       "      <td>3</td>\n",
       "      <td>Portuguese</td>\n",
       "      <td>9</td>\n",
       "      <td>3.913043</td>\n",
       "    </tr>\n",
       "    <tr>\n",
       "      <th>4</th>\n",
       "      <td>4</td>\n",
       "      <td>Hungarian</td>\n",
       "      <td>6</td>\n",
       "      <td>2.608696</td>\n",
       "    </tr>\n",
       "    <tr>\n",
       "      <th>5</th>\n",
       "      <td>5</td>\n",
       "      <td>Italian</td>\n",
       "      <td>5</td>\n",
       "      <td>2.173913</td>\n",
       "    </tr>\n",
       "    <tr>\n",
       "      <th>6</th>\n",
       "      <td>6</td>\n",
       "      <td>Greek</td>\n",
       "      <td>4</td>\n",
       "      <td>1.739130</td>\n",
       "    </tr>\n",
       "    <tr>\n",
       "      <th>7</th>\n",
       "      <td>7</td>\n",
       "      <td>German</td>\n",
       "      <td>3</td>\n",
       "      <td>1.304348</td>\n",
       "    </tr>\n",
       "    <tr>\n",
       "      <th>8</th>\n",
       "      <td>8</td>\n",
       "      <td>Swahili</td>\n",
       "      <td>3</td>\n",
       "      <td>1.304348</td>\n",
       "    </tr>\n",
       "    <tr>\n",
       "      <th>9</th>\n",
       "      <td>9</td>\n",
       "      <td>Other</td>\n",
       "      <td>2</td>\n",
       "      <td>0.869565</td>\n",
       "    </tr>\n",
       "    <tr>\n",
       "      <th>10</th>\n",
       "      <td>10</td>\n",
       "      <td>Afrikaans</td>\n",
       "      <td>2</td>\n",
       "      <td>0.869565</td>\n",
       "    </tr>\n",
       "    <tr>\n",
       "      <th>11</th>\n",
       "      <td>11</td>\n",
       "      <td>Russian</td>\n",
       "      <td>2</td>\n",
       "      <td>0.869565</td>\n",
       "    </tr>\n",
       "    <tr>\n",
       "      <th>12</th>\n",
       "      <td>12</td>\n",
       "      <td>Romanian</td>\n",
       "      <td>2</td>\n",
       "      <td>0.869565</td>\n",
       "    </tr>\n",
       "    <tr>\n",
       "      <th>13</th>\n",
       "      <td>13</td>\n",
       "      <td>Turkish</td>\n",
       "      <td>2</td>\n",
       "      <td>0.869565</td>\n",
       "    </tr>\n",
       "    <tr>\n",
       "      <th>14</th>\n",
       "      <td>14</td>\n",
       "      <td>Slovenian</td>\n",
       "      <td>2</td>\n",
       "      <td>0.869565</td>\n",
       "    </tr>\n",
       "    <tr>\n",
       "      <th>15</th>\n",
       "      <td>15</td>\n",
       "      <td>Czech</td>\n",
       "      <td>1</td>\n",
       "      <td>0.434783</td>\n",
       "    </tr>\n",
       "    <tr>\n",
       "      <th>16</th>\n",
       "      <td>16</td>\n",
       "      <td>Vietnamese</td>\n",
       "      <td>1</td>\n",
       "      <td>0.434783</td>\n",
       "    </tr>\n",
       "    <tr>\n",
       "      <th>17</th>\n",
       "      <td>17</td>\n",
       "      <td>Korean</td>\n",
       "      <td>1</td>\n",
       "      <td>0.434783</td>\n",
       "    </tr>\n",
       "    <tr>\n",
       "      <th>18</th>\n",
       "      <td>18</td>\n",
       "      <td>Croatian</td>\n",
       "      <td>1</td>\n",
       "      <td>0.434783</td>\n",
       "    </tr>\n",
       "    <tr>\n",
       "      <th>19</th>\n",
       "      <td>19</td>\n",
       "      <td>Estonian</td>\n",
       "      <td>1</td>\n",
       "      <td>0.434783</td>\n",
       "    </tr>\n",
       "    <tr>\n",
       "      <th>20</th>\n",
       "      <td>20</td>\n",
       "      <td>French</td>\n",
       "      <td>1</td>\n",
       "      <td>0.434783</td>\n",
       "    </tr>\n",
       "    <tr>\n",
       "      <th>21</th>\n",
       "      <td>21</td>\n",
       "      <td>Tagalog-Filipino</td>\n",
       "      <td>1</td>\n",
       "      <td>0.434783</td>\n",
       "    </tr>\n",
       "    <tr>\n",
       "      <th>22</th>\n",
       "      <td>22</td>\n",
       "      <td>Slovak</td>\n",
       "      <td>1</td>\n",
       "      <td>0.434783</td>\n",
       "    </tr>\n",
       "    <tr>\n",
       "      <th>23</th>\n",
       "      <td>23</td>\n",
       "      <td>Chinese</td>\n",
       "      <td>1</td>\n",
       "      <td>0.434783</td>\n",
       "    </tr>\n",
       "    <tr>\n",
       "      <th>24</th>\n",
       "      <td>24</td>\n",
       "      <td>Mandarin</td>\n",
       "      <td>1</td>\n",
       "      <td>0.434783</td>\n",
       "    </tr>\n",
       "    <tr>\n",
       "      <th>25</th>\n",
       "      <td>25</td>\n",
       "      <td>CONSENT_REVOKED</td>\n",
       "      <td>1</td>\n",
       "      <td>0.434783</td>\n",
       "    </tr>\n",
       "    <tr>\n",
       "      <th>26</th>\n",
       "      <td>26</td>\n",
       "      <td>Urdu</td>\n",
       "      <td>1</td>\n",
       "      <td>0.434783</td>\n",
       "    </tr>\n",
       "    <tr>\n",
       "      <th>27</th>\n",
       "      <td>27</td>\n",
       "      <td>Bengali</td>\n",
       "      <td>1</td>\n",
       "      <td>0.434783</td>\n",
       "    </tr>\n",
       "    <tr>\n",
       "      <th>28</th>\n",
       "      <td>28</td>\n",
       "      <td>Serbian</td>\n",
       "      <td>1</td>\n",
       "      <td>0.434783</td>\n",
       "    </tr>\n",
       "  </tbody>\n",
       "</table>\n",
       "</div>"
      ]
     },
     "execution_count": 11,
     "metadata": {},
     "output_type": "execute_result"
    }
   ],
   "execution_count": 11
  },
  {
   "metadata": {
    "ExecuteTime": {
     "end_time": "2025-04-15T11:55:31.205223Z",
     "start_time": "2025-04-15T11:55:31.197906Z"
    }
   },
   "cell_type": "code",
   "source": "u.language_analysis(language_csv_path)",
   "id": "ab7b5693b2cd9ec1",
   "outputs": [
    {
     "name": "stdout",
     "output_type": "stream",
     "text": [
      "\n",
      "    The research study encompassed participants proficient in various languages. \n",
      "    The five most prevalent languages among the participants were as follows:\n",
      "\n",
      "        - English = 65.217%\n",
      "\t\t- Spanish = 6.522%\n",
      "\t\t- Polish = 3.913%\n",
      "\t\t- Portuguese = 3.913%\n",
      "\t\t- Hungarian = 2.609%\n",
      "    \n"
     ]
    }
   ],
   "execution_count": 12
  },
  {
   "metadata": {},
   "cell_type": "markdown",
   "source": "### Nationality Analysis",
   "id": "4a2c07c366687bf9"
  },
  {
   "metadata": {
    "ExecuteTime": {
     "end_time": "2025-04-15T11:55:31.253832Z",
     "start_time": "2025-04-15T11:55:31.245036Z"
    }
   },
   "cell_type": "code",
   "source": [
    "nationality_csv_path = 'data/demographic/nationality.csv'\n",
    "continent_percentages, continent_distribution = u.nationality_analysis(nationality_csv_path)"
   ],
   "id": "210fae260bcbc61d",
   "outputs": [
    {
     "name": "stdout",
     "output_type": "stream",
     "text": [
      "\n",
      "    The study participants exhibited a diverse geographical distribution. \n",
      "    The breakdown of participants by continent was as follows:\n",
      "\n",
      "    - Africa (38%)\n",
      "\t- Europe (37%)\n",
      "\t- North America (18%)\n",
      "\t- Asia (4%)\n",
      "\t- South America (2%)\n",
      "\t- Oceania (0%)\n",
      "    \n"
     ]
    }
   ],
   "execution_count": 13
  },
  {
   "metadata": {
    "ExecuteTime": {
     "end_time": "2025-04-15T11:55:31.274869Z",
     "start_time": "2025-04-15T11:55:31.268290Z"
    }
   },
   "cell_type": "code",
   "source": "continent_percentages",
   "id": "4fc0681b6616aba4",
   "outputs": [
    {
     "data": {
      "text/plain": [
       "continent\n",
       "Africa           38\n",
       "Europe           37\n",
       "North America    18\n",
       "Asia              4\n",
       "South America     2\n",
       "Oceania           0\n",
       "Unknown           0\n",
       "Name: count, dtype: int64"
      ]
     },
     "execution_count": 14,
     "metadata": {},
     "output_type": "execute_result"
    }
   ],
   "execution_count": 14
  },
  {
   "metadata": {
    "ExecuteTime": {
     "end_time": "2025-04-15T11:55:31.301554Z",
     "start_time": "2025-04-15T11:55:31.294543Z"
    }
   },
   "cell_type": "code",
   "source": "continent_distribution",
   "id": "7c267f49fd0d3c07",
   "outputs": [
    {
     "data": {
      "text/plain": [
       "continent\n",
       "Africa           88\n",
       "Asia              9\n",
       "Europe           86\n",
       "North America    41\n",
       "Oceania           1\n",
       "South America     4\n",
       "Unknown           1\n",
       "Name: count, dtype: int64"
      ]
     },
     "execution_count": 15,
     "metadata": {},
     "output_type": "execute_result"
    }
   ],
   "execution_count": 15
  }
 ],
 "metadata": {
  "kernelspec": {
   "display_name": "Python 3",
   "language": "python",
   "name": "python3"
  },
  "language_info": {
   "codemirror_mode": {
    "name": "ipython",
    "version": 2
   },
   "file_extension": ".py",
   "mimetype": "text/x-python",
   "name": "python",
   "nbconvert_exporter": "python",
   "pygments_lexer": "ipython2",
   "version": "2.7.6"
  }
 },
 "nbformat": 4,
 "nbformat_minor": 5
}
