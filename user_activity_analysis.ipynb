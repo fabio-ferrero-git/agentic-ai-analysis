{
 "cells": [
  {
   "metadata": {},
   "cell_type": "markdown",
   "source": "#### Import",
   "id": "be6c81ca9cc1367e"
  },
  {
   "metadata": {
    "ExecuteTime": {
     "end_time": "2025-04-17T09:24:13.042349Z",
     "start_time": "2025-04-17T09:24:12.394778Z"
    }
   },
   "cell_type": "code",
   "source": [
    "from analysis_functions import statistic as s, pre_processing\n",
    "import numpy as np\n",
    "import pandas as pd"
   ],
   "id": "4319aff8da05c13",
   "outputs": [],
   "execution_count": 1
  },
  {
   "metadata": {},
   "cell_type": "markdown",
   "source": "#### Get preprocessed data",
   "id": "cf01fae873946ae2"
  },
  {
   "metadata": {
    "ExecuteTime": {
     "end_time": "2025-04-17T09:24:13.051798Z",
     "start_time": "2025-04-17T09:24:13.047687Z"
    }
   },
   "cell_type": "code",
   "source": [
    "preprocessed_data = pre_processing.pre_process()\n",
    "\n",
    "n_actions_in_5min = preprocessed_data.get('n_actions_in_5min')\n",
    "n_replied = preprocessed_data.get('n_replied')\n",
    "n_replied_full = preprocessed_data.get('n_replied_full')\n",
    "users_replies = preprocessed_data.get('users_replies')"
   ],
   "id": "455c49e809d67c1e",
   "outputs": [
    {
     "name": "stdout",
     "output_type": "stream",
     "text": [
      "Load preprocessed data from JSON files...\n",
      "Data loaded successfully!\n"
     ]
    }
   ],
   "execution_count": 2
  },
  {
   "metadata": {},
   "cell_type": "markdown",
   "source": [
    "---\n",
    "### Average number of actions in 5 minutes of interface (for each system)\n",
    "\n",
    "#### Action list:\n",
    "- event created\n",
    "- event updated\n",
    "- event deleted\n",
    "- todo created\n",
    "- todo updated\n",
    "- message replied\n",
    "\n",
    "#### Calculated as the **mean** of the number of actions in the list above"
   ],
   "id": "baaeebf218d88781"
  },
  {
   "metadata": {
    "ExecuteTime": {
     "end_time": "2025-04-17T09:24:13.139548Z",
     "start_time": "2025-04-17T09:24:13.103364Z"
    }
   },
   "cell_type": "code",
   "source": [
    "stddev_actions = {c : np.std(n_actions_in_5min[c]) for c in range(3)}\n",
    "s.n_action_in_interface(n_actions=n_actions_in_5min, stddev_actions=stddev_actions, plot=True)"
   ],
   "id": "e56e4cb857bb8af0",
   "outputs": [
    {
     "data": {
      "text/plain": [
       "<Figure size 640x480 with 1 Axes>"
      ],
      "image/png": "[encoded data removed]"
     },
     "metadata": {},
     "output_type": "display_data"
    },
    {
     "data": {
      "text/plain": [
       "               mean    stddev\n",
       "System_0   6.597403  4.478693\n",
       "System_1  18.220779  9.377541\n",
       "System_2  24.921053  8.089570"
      ],
      "text/html": [
       "<div>\n",
       "<style scoped>\n",
       "    .dataframe tbody tr th:only-of-type {\n",
       "        vertical-align: middle;\n",
       "    }\n",
       "\n",
       "    .dataframe tbody tr th {\n",
       "        vertical-align: top;\n",
       "    }\n",
       "\n",
       "    .dataframe thead th {\n",
       "        text-align: right;\n",
       "    }\n",
       "</style>\n",
       "<table border=\"1\" class=\"dataframe\">\n",
       "  <thead>\n",
       "    <tr style=\"text-align: right;\">\n",
       "      <th></th>\n",
       "      <th>mean</th>\n",
       "      <th>stddev</th>\n",
       "    </tr>\n",
       "  </thead>\n",
       "  <tbody>\n",
       "    <tr>\n",
       "      <th>System_0</th>\n",
       "      <td>6.597403</td>\n",
       "      <td>4.478693</td>\n",
       "    </tr>\n",
       "    <tr>\n",
       "      <th>System_1</th>\n",
       "      <td>18.220779</td>\n",
       "      <td>9.377541</td>\n",
       "    </tr>\n",
       "    <tr>\n",
       "      <th>System_2</th>\n",
       "      <td>24.921053</td>\n",
       "      <td>8.089570</td>\n",
       "    </tr>\n",
       "  </tbody>\n",
       "</table>\n",
       "</div>"
      ]
     },
     "execution_count": 3,
     "metadata": {},
     "output_type": "execute_result"
    }
   ],
   "execution_count": 3
  },
  {
   "metadata": {},
   "cell_type": "markdown",
   "source": [
    "### Average number of answered messages (normalized to [0,1]) for each system\n",
    "- Calculated as the **mean** of ${\\Huge\\frac{\\text{number of messages replied}}{\\text{number of received messages}}}$\n",
    "\n",
    "<br>\n",
    "\n",
    "#### NB: The denominator contains <u>only the number of messages arrived</u>, and <u>does NOT consider</u> the followups that would have arrived if the user had responded"
   ],
   "id": "89da61db85116741"
  },
  {
   "metadata": {
    "ExecuteTime": {
     "end_time": "2025-04-17T09:24:13.181608Z",
     "start_time": "2025-04-17T09:24:13.153481Z"
    }
   },
   "cell_type": "code",
   "source": "s.avg_message_replied(replies=n_replied, plot=True)",
   "id": "8754789875250bbb",
   "outputs": [
    {
     "data": {
      "text/plain": [
       "<Figure size 640x480 with 1 Axes>"
      ],
      "image/png": "[encoded data removed]"
     },
     "metadata": {},
     "output_type": "display_data"
    },
    {
     "data": {
      "text/plain": [
       "     mean (stddev)\n",
       "0  0.2997 (0.2079)\n",
       "1  0.6625 (0.3134)\n",
       "2  0.8567 (0.2465)"
      ],
      "text/html": [
       "<div>\n",
       "<style scoped>\n",
       "    .dataframe tbody tr th:only-of-type {\n",
       "        vertical-align: middle;\n",
       "    }\n",
       "\n",
       "    .dataframe tbody tr th {\n",
       "        vertical-align: top;\n",
       "    }\n",
       "\n",
       "    .dataframe thead th {\n",
       "        text-align: right;\n",
       "    }\n",
       "</style>\n",
       "<table border=\"1\" class=\"dataframe\">\n",
       "  <thead>\n",
       "    <tr style=\"text-align: right;\">\n",
       "      <th></th>\n",
       "      <th>mean (stddev)</th>\n",
       "    </tr>\n",
       "  </thead>\n",
       "  <tbody>\n",
       "    <tr>\n",
       "      <th>0</th>\n",
       "      <td>0.2997 (0.2079)</td>\n",
       "    </tr>\n",
       "    <tr>\n",
       "      <th>1</th>\n",
       "      <td>0.6625 (0.3134)</td>\n",
       "    </tr>\n",
       "    <tr>\n",
       "      <th>2</th>\n",
       "      <td>0.8567 (0.2465)</td>\n",
       "    </tr>\n",
       "  </tbody>\n",
       "</table>\n",
       "</div>"
      ]
     },
     "execution_count": 4,
     "metadata": {},
     "output_type": "execute_result"
    }
   ],
   "execution_count": 4
  },
  {
   "metadata": {},
   "cell_type": "markdown",
   "source": [
    "### Average number of answered messages (normalized to [0,1]) for each system, considering both: \n",
    "#### 1. The number of messages arrived\n",
    "#### 2. The number of followups that would have come if the user responded to the messages\n",
    "\n",
    "<br>\n",
    "\n",
    "- Calculated as the **mean** of ${\\Huge\\frac{\\text{number of messages replied}}{\\text{number of received messages } + \\text{ number of followups of messages received}}}$"
   ],
   "id": "5a1878013cca5b99"
  },
  {
   "metadata": {
    "ExecuteTime": {
     "end_time": "2025-04-17T09:24:13.216401Z",
     "start_time": "2025-04-17T09:24:13.193716Z"
    }
   },
   "cell_type": "code",
   "source": "s.avg_message_replied(replies=n_replied_full, plot=True, color='purple')",
   "id": "c605eb5a80b0d71",
   "outputs": [
    {
     "data": {
      "text/plain": [
       "<Figure size 640x480 with 1 Axes>"
      ],
      "image/png": "[encoded data removed]"
     },
     "metadata": {},
     "output_type": "display_data"
    },
    {
     "data": {
      "text/plain": [
       "     mean (stddev)\n",
       "0  0.1538 (0.1074)\n",
       "1  0.3423 (0.1643)\n",
       "2  0.4506 (0.1398)"
      ],
      "text/html": [
       "<div>\n",
       "<style scoped>\n",
       "    .dataframe tbody tr th:only-of-type {\n",
       "        vertical-align: middle;\n",
       "    }\n",
       "\n",
       "    .dataframe tbody tr th {\n",
       "        vertical-align: top;\n",
       "    }\n",
       "\n",
       "    .dataframe thead th {\n",
       "        text-align: right;\n",
       "    }\n",
       "</style>\n",
       "<table border=\"1\" class=\"dataframe\">\n",
       "  <thead>\n",
       "    <tr style=\"text-align: right;\">\n",
       "      <th></th>\n",
       "      <th>mean (stddev)</th>\n",
       "    </tr>\n",
       "  </thead>\n",
       "  <tbody>\n",
       "    <tr>\n",
       "      <th>0</th>\n",
       "      <td>0.1538 (0.1074)</td>\n",
       "    </tr>\n",
       "    <tr>\n",
       "      <th>1</th>\n",
       "      <td>0.3423 (0.1643)</td>\n",
       "    </tr>\n",
       "    <tr>\n",
       "      <th>2</th>\n",
       "      <td>0.4506 (0.1398)</td>\n",
       "    </tr>\n",
       "  </tbody>\n",
       "</table>\n",
       "</div>"
      ]
     },
     "execution_count": 5,
     "metadata": {},
     "output_type": "execute_result"
    }
   ],
   "execution_count": 5
  },
  {
   "metadata": {},
   "cell_type": "markdown",
   "source": "### Total message replied for System 0, 1, 2",
   "id": "9623edbddab7496b"
  },
  {
   "metadata": {
    "ExecuteTime": {
     "end_time": "2025-04-17T09:24:13.280208Z",
     "start_time": "2025-04-17T09:24:13.278476Z"
    }
   },
   "cell_type": "code",
   "source": [
    "for system in range(3):\n",
    "    print(f\"- Total message replied for System {system} = {sum(users_replies[system])}\")"
   ],
   "id": "5167d70952c02f74",
   "outputs": [
    {
     "name": "stdout",
     "output_type": "stream",
     "text": [
      "- Total message replied for System 0 = 230\n",
      "- Total message replied for System 1 = 668\n",
      "- Total message replied for System 2 = 929\n"
     ]
    }
   ],
   "execution_count": 6
  },
  {
   "metadata": {},
   "cell_type": "markdown",
   "source": [
    "---\n",
    "## Precision and Recall"
   ],
   "id": "3ce879674840cb67"
  },
  {
   "metadata": {
    "ExecuteTime": {
     "end_time": "2025-04-17T09:24:13.309932Z",
     "start_time": "2025-04-17T09:24:13.301742Z"
    }
   },
   "cell_type": "code",
   "source": [
    "n_systems = 3\n",
    "data = dict()\n",
    "\n",
    "# For each system (0,1,2) read data and compute 'precision' and 'recall'\n",
    "for system in range(n_systems):\n",
    "    df = pd.read_csv(f'./data/precision_recall_data/pr_rec_sys{system}.csv')    \n",
    "    df['precision'] = df.apply(lambda row: s.precision(row), axis=1)\n",
    "    df['recall'] = df.apply(lambda row: s.recall(row), axis=1)\n",
    "    \n",
    "    print(f'''\n",
    "    *** System {system} ***\n",
    "    - Precision = {df['precision'].mean()}\n",
    "    - Recall = {df['recall'].mean()}\n",
    "    ''')\n",
    "    data[system] = df"
   ],
   "id": "395dcf8c07fa7f1e",
   "outputs": [
    {
     "name": "stdout",
     "output_type": "stream",
     "text": [
      "\n",
      "    *** System 0 ***\n",
      "    - Precision = 0.6461657390228818\n",
      "    - Recall = 0.13942293778800152\n",
      "    \n",
      "\n",
      "    *** System 1 ***\n",
      "    - Precision = 0.8469378925547756\n",
      "    - Recall = 0.5057748500633789\n",
      "    \n",
      "\n",
      "    *** System 2 ***\n",
      "    - Precision = 0.8219760320089268\n",
      "    - Recall = 0.6307785867383391\n",
      "    \n"
     ]
    }
   ],
   "execution_count": 7
  },
  {
   "metadata": {},
   "cell_type": "markdown",
   "source": "---",
   "id": "187171f8ae8d129"
  },
  {
   "metadata": {},
   "cell_type": "markdown",
   "source": "## Statistical test (Kruskal-Wallis) on Precision and Recall",
   "id": "cc77910fc5f1622f"
  },
  {
   "metadata": {
    "ExecuteTime": {
     "end_time": "2025-04-17T10:19:48.404010Z",
     "start_time": "2025-04-17T10:19:48.396009Z"
    }
   },
   "cell_type": "code",
   "source": [
    "from scipy.stats import kruskal\n",
    "\n",
    "dfs = [pd.read_csv(f'./data/precision_recall_data/pr_rec_sys{i}.csv') for i in range(3)]\n",
    "\n",
    "for df in dfs:\n",
    "    df['precision'] = df.apply(lambda row: s.precision(row), axis=1)\n",
    "    df['recall'] = df.apply(lambda row: s.recall(row), axis=1)\n",
    "\n",
    "_, k_precision = kruskal(dfs[0]['precision'], dfs[1]['precision'], dfs[2]['precision'])\n",
    "_, k_recall = kruskal(dfs[0]['recall'], dfs[1]['recall'], dfs[2]['recall'])\n",
    "\n",
    "print(f'Kruskal-Wallis - Precision p_value = {s.format_p_values(k_precision, n_hypotheses=2)}')\n",
    "print(f'Kruskal-Wallis - Recall p_value = {s.format_p_values(k_recall, n_hypotheses=2)}')"
   ],
   "id": "20b60d6e30786d50",
   "outputs": [
    {
     "name": "stdout",
     "output_type": "stream",
     "text": [
      "Kruskal-Wallis - Precision p_value = 0.043040275 (*)\n",
      "Kruskal-Wallis - Recall p_value = 0.000000000 (***)\n"
     ]
    }
   ],
   "execution_count": 67
  }
 ],
 "metadata": {
  "kernelspec": {
   "display_name": "Python 3",
   "language": "python",
   "name": "python3"
  },
  "language_info": {
   "codemirror_mode": {
    "name": "ipython",
    "version": 2
   },
   "file_extension": ".py",
   "mimetype": "text/x-python",
   "name": "python",
   "nbconvert_exporter": "python",
   "pygments_lexer": "ipython2",
   "version": "2.7.6"
  }
 },
 "nbformat": 4,
 "nbformat_minor": 5
}
